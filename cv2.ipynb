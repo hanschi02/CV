{
 "cells": [
  {
   "cell_type": "code",
   "execution_count": 1,
   "id": "initial_id",
   "metadata": {
    "collapsed": true,
    "ExecuteTime": {
     "end_time": "2025-05-17T13:46:00.860984500Z",
     "start_time": "2025-05-17T13:45:58.109537900Z"
    }
   },
   "outputs": [],
   "source": [
    "import numpy as np \n",
    "import matplotlib.pyplot as plt \n",
    "import cv2"
   ]
  },
  {
   "cell_type": "code",
   "execution_count": 2,
   "outputs": [],
   "source": [
    "# control points in image coordinates: P1(305, 440), P2(672, 430), P3(480, 704), P4(971,630)\n",
    "# destination points in 'world coordinates': P1(0, 0), P2(449, 0), P3(0, 465), P4(449, 465)\n",
    "def calculate_projective_transformation(control_points, destination_points):\n",
    "    \"\"\" calculates the homography for given control and destination points.\n",
    "    \n",
    "    - construct a matrix containing both the control and destination points \n",
    "    - calculate the svd to find the homography\n",
    "    \n",
    "    \"\"\"\n",
    "    affine_trans = []\n",
    "    \n",
    "    if not len(control_points) == len(destination_points):\n",
    "        raise Exception('Number of control points must match number of destination points')\n",
    "    \n",
    "    for index in range(0, len(control_points)):\n",
    "        x_control, y_control = control_points[index]\n",
    "        x_dest, y_dest = destination_points[index]\n",
    "        \n",
    "        matrix_entry_1 = [x_control, y_control, 1, 0, 0, 0, -x_dest*x_control, -x_dest*y_control, -x_dest]\n",
    "        matrix_entry_2 = [0, 0, 0, x_control, y_control, 1, -y_dest*x_control, -y_dest*y_control, -y_dest]\n",
    "        \n",
    "        affine_trans.append(matrix_entry_1)\n",
    "        affine_trans.append(matrix_entry_2)\n",
    "    \n",
    "    affine_trans = np.array(affine_trans)    \n",
    "    \n",
    "    u, s, v = np.linalg.svd(affine_trans)\n",
    "    homography = v[-1, :]\n",
    "    homography = homography.reshape(3, 3)\n",
    "    homography = homography / homography[2, 2] \n",
    "    \n",
    "    return homography\n",
    "\n",
    "\n",
    "def apply_projective_transformation(image_path, control_points, destination_points):\n",
    "    \"\"\"\n",
    "    \n",
    "    \"\"\"\n",
    "    image = cv2.imread(image_path, cv2.IMREAD_COLOR)\n",
    "    image = cv2.cvtColor(image, cv2.COLOR_BGR2RGB)\n",
    "    \n",
    "    homography = calculate_projective_transformation(control_points, destination_points)\n",
    "    \n",
    "    for point in destination_points:\n",
    "        point_homogenous = np.append(np.array(point), 1)\n",
    "        point_trans = np.dot(homography, point_homogenous)\n",
    "        point_trans /= point_trans[2]\n",
    "        print(point_trans)\n",
    "        "
   ],
   "metadata": {
    "collapsed": false,
    "ExecuteTime": {
     "end_time": "2025-05-17T13:46:08.065204100Z",
     "start_time": "2025-05-17T13:46:08.051857200Z"
    }
   },
   "id": "81b8d8230d312414"
  },
  {
   "cell_type": "code",
   "execution_count": 3,
   "outputs": [
    {
     "name": "stdout",
     "output_type": "stream",
     "text": [
      "[818.42924875 632.98183983   1.        ]\n",
      "[1.10746447e+03 5.86158819e+02 1.00000000e+00]\n",
      "[1.28675869e+03 8.13855641e+02 1.00000000e+00]\n",
      "[1.51025840e+03 6.62560246e+02 1.00000000e+00]\n"
     ]
    }
   ],
   "source": [
    "def main():\n",
    "    control_points = [[305, 440], [672, 430], [480, 704], [971, 630]]\n",
    "    destination_points = [[0,0], [449, 0], [0, 465], [449, 465]]\n",
    "    \n",
    "    apply_projective_transformation('schraegbild_tempelhof.jpg', destination_points, control_points)\n",
    "    \n",
    "if __name__ == '__main__':\n",
    "    main()"
   ],
   "metadata": {
    "collapsed": false,
    "ExecuteTime": {
     "end_time": "2025-05-17T13:46:10.612537700Z",
     "start_time": "2025-05-17T13:46:10.585720200Z"
    }
   },
   "id": "37aacd97003593f3"
  },
  {
   "cell_type": "code",
   "execution_count": 58,
   "outputs": [],
   "source": [],
   "metadata": {
    "collapsed": false,
    "ExecuteTime": {
     "end_time": "2025-05-16T14:17:15.854159400Z",
     "start_time": "2025-05-16T14:17:15.846965Z"
    }
   },
   "id": "ab8248201ec2c771"
  }
 ],
 "metadata": {
  "kernelspec": {
   "display_name": "Python 3",
   "language": "python",
   "name": "python3"
  },
  "language_info": {
   "codemirror_mode": {
    "name": "ipython",
    "version": 2
   },
   "file_extension": ".py",
   "mimetype": "text/x-python",
   "name": "python",
   "nbconvert_exporter": "python",
   "pygments_lexer": "ipython2",
   "version": "2.7.6"
  }
 },
 "nbformat": 4,
 "nbformat_minor": 5
}
